{
 "cells": [
  {
   "cell_type": "code",
   "execution_count": 7,
   "id": "d9d69674-79a6-48f3-b9ef-d2dc7abc3d05",
   "metadata": {},
   "outputs": [],
   "source": [
    "import numpy as np\n",
    "import pandas as pd\n",
    "import os\n",
    "import cv2 as cv"
   ]
  },
  {
   "cell_type": "markdown",
   "id": "a73e8d3c-7a52-46d4-91c7-b2310d231d44",
   "metadata": {},
   "source": [
    "## Loading the dataset"
   ]
  },
  {
   "cell_type": "code",
   "execution_count": 3,
   "id": "f32c71a2-7bf2-4c49-a267-8f45ffc6cbac",
   "metadata": {},
   "outputs": [],
   "source": [
    "#loading the dataset\n",
    "img = cv.imread(r'C:\\Users\\Siddu\\Downloads\\CV project\\archive\\PlantVillage\\tomato\\Tomato_healthy\\e8ccc10e-1991-4cd9-8419-fc3857f96867___RS_HL 0550.JPG')\n",
    "img = cv.resize(img,(256,256))\n",
    "if img is None:\n",
    "    print(\"Error: Image not found or unable to load.\")\n",
    "else:\n",
    "    \n",
    "    cv.imshow('Image', img)\n",
    "\n",
    "   \n",
    "    while True:\n",
    "        if cv.waitKey(1) & 0xFF == ord('q'):\n",
    "            break\n",
    "\n",
    "    cv.destroyAllWindows()"
   ]
  },
  {
   "cell_type": "code",
   "execution_count": 2,
   "id": "2fd5b5df-e29f-44cd-a87d-4995fd745384",
   "metadata": {},
   "outputs": [
    {
     "name": "stdout",
     "output_type": "stream",
     "text": [
      "Loaded 20638 images from 15 classes.\n"
     ]
    }
   ],
   "source": [
    "DATASET_PATH = r\"C:\\Users\\Siddu\\Downloads\\CV project\\archive\\PlantVillage\"\n",
    "\n",
    "images = []\n",
    "labels = []\n",
    "\n",
    "image_extensions = ['.jpg', '.jpeg', '.png']\n",
    "\n",
    "# Traverse each top-level class folder (e.g., Pepper, Potato)\n",
    "for class_name in os.listdir(DATASET_PATH):\n",
    "    class_folder = os.path.join(DATASET_PATH, class_name)\n",
    "\n",
    "    if not os.path.isdir(class_folder):\n",
    "        continue\n",
    "\n",
    "    # Traverse each subclass folder (e.g., PepperBacteria)\n",
    "    for subclass_name in os.listdir(class_folder):\n",
    "        subclass_folder = os.path.join(class_folder, subclass_name)\n",
    "\n",
    "        if not os.path.isdir(subclass_folder):\n",
    "            continue\n",
    "\n",
    "        for file_name in os.listdir(subclass_folder):\n",
    "            if not any(file_name.lower().endswith(ext) for ext in image_extensions):\n",
    "                continue\n",
    "\n",
    "            file_path = os.path.join(subclass_folder, file_name)\n",
    "\n",
    "            img = cv.imread(file_path)\n",
    "            if img is None:\n",
    "                print(f\"Could not read {file_path}\")\n",
    "                continue\n",
    "\n",
    "            img_resized = cv.resize(img, (256,256))\n",
    "            images.append(img_resized)\n",
    "            labels.append(subclass_name)\n",
    "\n",
    "print(f\"Loaded {len(images)} images from {len(set(labels))} classes.\")"
   ]
  },
  {
   "cell_type": "markdown",
   "id": "d774d159-37b4-48b6-8688-bb857cfc95c1",
   "metadata": {},
   "source": [
    "### Using mean color"
   ]
  },
  {
   "cell_type": "code",
   "execution_count": 15,
   "id": "de59e279-3541-4a8c-b195-50caee5b2941",
   "metadata": {},
   "outputs": [],
   "source": [
    "def extract_mean_color(image):\n",
    "    hsv = cv.cvtColor(image, cv.COLOR_BGR2HSV)\n",
    "\n",
    "    mean_rgb = np.mean(image, axis=(0, 1))\n",
    "    mean_hsv = np.mean(hsv, axis=(0, 1))\n",
    "\n",
    "    return np.concatenate([mean_rgb, mean_hsv])\n"
   ]
  },
  {
   "cell_type": "code",
   "execution_count": 15,
   "id": "48b46cf8-c6f5-45bf-b915-7ead5b55a613",
   "metadata": {},
   "outputs": [
    {
     "name": "stdout",
     "output_type": "stream",
     "text": [
      "Accuracy: 0.609108527131783\n"
     ]
    }
   ],
   "source": [
    "from sklearn.svm import SVC\n",
    "from sklearn.model_selection import train_test_split\n",
    "\n",
    "features = [extract_mean_color(img) for img in images]\n",
    "X = np.array(features)\n",
    "y = np.array(labels)\n",
    "\n",
    "X_train, X_test, y_train, y_test = train_test_split(X, y, stratify=y)\n",
    "\n",
    "model = SVC()\n",
    "model.fit(X_train, y_train)\n",
    "print(\"Accuracy:\", model.score(X_test, y_test))\n"
   ]
  },
  {
   "cell_type": "markdown",
   "id": "7885c65a-acce-4e47-b9de-6d324d3d7079",
   "metadata": {},
   "source": [
    "### Using color histogram"
   ]
  },
  {
   "cell_type": "code",
   "execution_count": 13,
   "id": "626327ba-e40b-47a4-b44a-79af3b44dbfe",
   "metadata": {},
   "outputs": [],
   "source": [
    "def extract_color_histogram(image):\n",
    "    hsv = cv.cvtColor(image, cv.COLOR_BGR2HSV)\n",
    "\n",
    "    hist_hue = cv.calcHist([hsv], [0], None, [32], [0, 180])\n",
    "    hist_hue = cv.normalize(hist_hue, hist_hue).flatten()\n",
    "\n",
    "    return hist_hue"
   ]
  },
  {
   "cell_type": "code",
   "execution_count": 22,
   "id": "8703048f-11a3-4cd4-8350-c2307ed3557a",
   "metadata": {},
   "outputs": [
    {
     "name": "stdout",
     "output_type": "stream",
     "text": [
      "Accuracy: 0.7844961240310078\n"
     ]
    }
   ],
   "source": [
    "from sklearn.svm import SVC\n",
    "from sklearn.model_selection import train_test_split\n",
    "\n",
    "features = [extract_color_histogram(img) for img in images]\n",
    "X = np.array(features)\n",
    "y = np.array(labels)\n",
    "\n",
    "X_train, X_test, y_train, y_test = train_test_split(X, y, stratify=y)\n",
    "\n",
    "model = SVC()\n",
    "model.fit(X_train, y_train)\n",
    "print(\"Accuracy:\", model.score(X_test, y_test))\n"
   ]
  },
  {
   "cell_type": "markdown",
   "id": "5c5fd128-f68a-4eb6-bed0-6f1cb57e8b96",
   "metadata": {},
   "source": [
    "### Using  Color Moments (Mean, Std, Skew for HSV)"
   ]
  },
  {
   "cell_type": "code",
   "execution_count": 30,
   "id": "d8e0f014-169e-4330-9303-689b12a89f5a",
   "metadata": {},
   "outputs": [],
   "source": [
    "from scipy.stats import skew\n",
    "\n",
    "def extract_color_moments(image):\n",
    "    image = cv.resize(image, (128, 128))\n",
    "    hsv = cv.cvtColor(image, cv.COLOR_BGR2HSV)\n",
    "\n",
    "    color_moments = []\n",
    "    for i in range(3):  # H, S, V\n",
    "        channel = hsv[:, :, i].flatten()\n",
    "        mean = np.mean(channel)\n",
    "        std = np.std(channel)\n",
    "        sk = skew(channel)\n",
    "        color_moments.extend([mean, std, sk])\n",
    "\n",
    "    return np.array(color_moments)  # 9 features\n"
   ]
  },
  {
   "cell_type": "code",
   "execution_count": 27,
   "id": "47b3c392-d89d-4402-aa2f-f1787a10b1ed",
   "metadata": {},
   "outputs": [
    {
     "name": "stdout",
     "output_type": "stream",
     "text": [
      "Accuracy: 0.6331395348837209\n"
     ]
    }
   ],
   "source": [
    "from sklearn.svm import SVC\n",
    "from sklearn.model_selection import train_test_split\n",
    "\n",
    "features = [extract_color_moments(img) for img in images]\n",
    "X = np.array(features)\n",
    "y = np.array(labels)\n",
    "\n",
    "X_train, X_test, y_train, y_test = train_test_split(X, y, stratify=y)\n",
    "\n",
    "model = SVC()\n",
    "model.fit(X_train, y_train)\n",
    "print(\"Accuracy:\", model.score(X_test, y_test))\n"
   ]
  },
  {
   "cell_type": "code",
   "execution_count": 31,
   "id": "553a0bef-e0e9-4a7f-b328-fabd333b5bd5",
   "metadata": {},
   "outputs": [
    {
     "data": {
      "text/plain": [
       "array(['Tomato__Tomato_YellowLeaf__Curl_Virus',\n",
       "       'Pepper__bell___Bacterial_spot', 'Tomato_Bacterial_spot', ...,\n",
       "       'Pepper__bell___Bacterial_spot', 'Tomato_Early_blight',\n",
       "       'Pepper__bell___healthy'], dtype='<U43')"
      ]
     },
     "execution_count": 31,
     "metadata": {},
     "output_type": "execute_result"
    }
   ],
   "source": [
    "y_pred = model.predict(X_test)\n",
    "y_pred"
   ]
  },
  {
   "cell_type": "markdown",
   "id": "2b0809f3-7442-4935-9306-3e093b41a885",
   "metadata": {},
   "source": [
    "### Using HSV"
   ]
  },
  {
   "cell_type": "code",
   "execution_count": 29,
   "id": "f6333056-2300-4c0b-8ca5-7bf49e26b1ff",
   "metadata": {},
   "outputs": [],
   "source": [
    "def extract_hsv_mean_only(image):\n",
    "    hsv = cv.cvtColor(image, cv.COLOR_BGR2HSV)\n",
    "    return np.mean(hsv, axis=(0, 1))\n"
   ]
  },
  {
   "cell_type": "code",
   "execution_count": 37,
   "id": "36c9e58c-cab0-4fca-9dfd-b5025712cd25",
   "metadata": {},
   "outputs": [
    {
     "name": "stdout",
     "output_type": "stream",
     "text": [
      "Accuracy: 0.488953488372093\n"
     ]
    }
   ],
   "source": [
    "from sklearn.svm import SVC\n",
    "from sklearn.model_selection import train_test_split\n",
    "\n",
    "features = [extract_hsv_mean_only(img) for img in images]\n",
    "X = np.array(features)\n",
    "y = np.array(labels)\n",
    "\n",
    "X_train, X_test, y_train, y_test = train_test_split(X, y, stratify=y)\n",
    "\n",
    "model = SVC()\n",
    "model.fit(X_train, y_train)\n",
    "print(\"Accuracy:\", model.score(X_test, y_test))"
   ]
  },
  {
   "cell_type": "markdown",
   "id": "5dfdaf9e-82f5-4049-a658-f9111474c6a8",
   "metadata": {},
   "source": [
    "## Combining color and histogram"
   ]
  },
  {
   "cell_type": "code",
   "execution_count": 11,
   "id": "725af2e1-8836-4b0d-b5bf-f2d6b21882d5",
   "metadata": {},
   "outputs": [],
   "source": [
    "def extract_combined_color_histogram(image):\n",
    "    mean_color = extract_mean_color(image)\n",
    "    hist = extract_color_histogram(image)\n",
    "    combined = np.concatenate([mean_color, hist])\n",
    "    return combined\n"
   ]
  },
  {
   "cell_type": "code",
   "execution_count": 44,
   "id": "0b929e92-1623-4f3c-8989-7dc543a0f3c0",
   "metadata": {},
   "outputs": [
    {
     "name": "stdout",
     "output_type": "stream",
     "text": [
      "Accuracy: 0.49534883720930234\n",
      "\n"
     ]
    },
    {
     "name": "stderr",
     "output_type": "stream",
     "text": [
      "C:\\Users\\Siddu\\AppData\\Local\\Programs\\Python\\Python311\\Lib\\site-packages\\sklearn\\metrics\\_classification.py:1344: UndefinedMetricWarning: Precision and F-score are ill-defined and being set to 0.0 in labels with no predicted samples. Use `zero_division` parameter to control this behavior.\n",
      "  _warn_prf(average, modifier, msg_start, len(result))\n",
      "C:\\Users\\Siddu\\AppData\\Local\\Programs\\Python\\Python311\\Lib\\site-packages\\sklearn\\metrics\\_classification.py:1344: UndefinedMetricWarning: Precision and F-score are ill-defined and being set to 0.0 in labels with no predicted samples. Use `zero_division` parameter to control this behavior.\n",
      "  _warn_prf(average, modifier, msg_start, len(result))\n"
     ]
    },
    {
     "name": "stdout",
     "output_type": "stream",
     "text": [
      "                                             precision    recall  f1-score   support\n",
      "\n",
      "              Pepper__bell___Bacterial_spot       0.40      0.22      0.28       249\n",
      "                     Pepper__bell___healthy       0.33      0.40      0.36       370\n",
      "                      Potato___Early_blight       0.70      0.88      0.78       250\n",
      "                       Potato___Late_blight       0.23      0.15      0.18       250\n",
      "                           Potato___healthy       0.00      0.00      0.00        38\n",
      "                      Tomato_Bacterial_spot       0.57      0.68      0.62       532\n",
      "                        Tomato_Early_blight       1.00      0.00      0.01       250\n",
      "                         Tomato_Late_blight       0.73      0.31      0.44       477\n",
      "                           Tomato_Leaf_Mold       0.62      0.02      0.04       238\n",
      "                  Tomato_Septoria_leaf_spot       0.50      0.67      0.57       443\n",
      "Tomato_Spider_mites_Two_spotted_spider_mite       0.44      0.34      0.38       419\n",
      "                        Tomato__Target_Spot       0.35      0.53      0.42       351\n",
      "      Tomato__Tomato_YellowLeaf__Curl_Virus       0.54      0.84      0.65       802\n",
      "                Tomato__Tomato_mosaic_virus       0.00      0.00      0.00        93\n",
      "                             Tomato_healthy       0.52      0.70      0.59       398\n",
      "\n",
      "                                   accuracy                           0.50      5160\n",
      "                                  macro avg       0.46      0.38      0.36      5160\n",
      "                               weighted avg       0.52      0.50      0.45      5160\n",
      "\n"
     ]
    },
    {
     "name": "stderr",
     "output_type": "stream",
     "text": [
      "C:\\Users\\Siddu\\AppData\\Local\\Programs\\Python\\Python311\\Lib\\site-packages\\sklearn\\metrics\\_classification.py:1344: UndefinedMetricWarning: Precision and F-score are ill-defined and being set to 0.0 in labels with no predicted samples. Use `zero_division` parameter to control this behavior.\n",
      "  _warn_prf(average, modifier, msg_start, len(result))\n"
     ]
    }
   ],
   "source": [
    "from sklearn.svm import SVC\n",
    "from sklearn.model_selection import train_test_split\n",
    "from sklearn.metrics import classification_report\n",
    "\n",
    "features = [extract_hsv_mean_only(img) for img in images]\n",
    "X = np.array(features)\n",
    "y = np.array(labels)\n",
    "\n",
    "X_train, X_test, y_train, y_test = train_test_split(X, y, stratify=y)\n",
    "\n",
    "model = SVC()\n",
    "model.fit(X_train, y_train)\n",
    "y_pred = model.predict(X_test)\n",
    "\n",
    "print(\"Accuracy:\", model.score(X_test, y_test))\n",
    "print()\n",
    "print(classification_report(y_test,y_pred))"
   ]
  },
  {
   "cell_type": "markdown",
   "id": "2677109a-f94a-4c1e-aae1-102a95d576a1",
   "metadata": {},
   "source": [
    "## Combined Histogram and Moments"
   ]
  },
  {
   "cell_type": "code",
   "execution_count": 47,
   "id": "da26ad31-bf98-4ada-acc1-b65694c68846",
   "metadata": {},
   "outputs": [],
   "source": [
    "def extract_histogram_moments(image):\n",
    "    hist = extract_color_histogram(image)\n",
    "    moments = extract_color_moments(image)\n",
    "    return np.concatenate([hist, moments])\n"
   ]
  },
  {
   "cell_type": "code",
   "execution_count": 48,
   "id": "3a0e9c7a-07e1-4bbc-be7d-0f429ed389b8",
   "metadata": {},
   "outputs": [
    {
     "name": "stdout",
     "output_type": "stream",
     "text": [
      "Accuracy: 0.623062015503876\n",
      "\n"
     ]
    },
    {
     "name": "stderr",
     "output_type": "stream",
     "text": [
      "C:\\Users\\Siddu\\AppData\\Local\\Programs\\Python\\Python311\\Lib\\site-packages\\sklearn\\metrics\\_classification.py:1344: UndefinedMetricWarning: Precision and F-score are ill-defined and being set to 0.0 in labels with no predicted samples. Use `zero_division` parameter to control this behavior.\n",
      "  _warn_prf(average, modifier, msg_start, len(result))\n",
      "C:\\Users\\Siddu\\AppData\\Local\\Programs\\Python\\Python311\\Lib\\site-packages\\sklearn\\metrics\\_classification.py:1344: UndefinedMetricWarning: Precision and F-score are ill-defined and being set to 0.0 in labels with no predicted samples. Use `zero_division` parameter to control this behavior.\n",
      "  _warn_prf(average, modifier, msg_start, len(result))\n",
      "C:\\Users\\Siddu\\AppData\\Local\\Programs\\Python\\Python311\\Lib\\site-packages\\sklearn\\metrics\\_classification.py:1344: UndefinedMetricWarning: Precision and F-score are ill-defined and being set to 0.0 in labels with no predicted samples. Use `zero_division` parameter to control this behavior.\n",
      "  _warn_prf(average, modifier, msg_start, len(result))\n"
     ]
    },
    {
     "name": "stdout",
     "output_type": "stream",
     "text": [
      "                                             precision    recall  f1-score   support\n",
      "\n",
      "              Pepper__bell___Bacterial_spot       0.49      0.53      0.51       249\n",
      "                     Pepper__bell___healthy       0.42      0.46      0.44       370\n",
      "                      Potato___Early_blight       0.76      0.81      0.78       250\n",
      "                       Potato___Late_blight       0.42      0.44      0.43       250\n",
      "                           Potato___healthy       0.00      0.00      0.00        38\n",
      "                      Tomato_Bacterial_spot       0.74      0.80      0.77       532\n",
      "                        Tomato_Early_blight       0.43      0.18      0.25       250\n",
      "                         Tomato_Late_blight       0.63      0.42      0.50       477\n",
      "                           Tomato_Leaf_Mold       0.84      0.21      0.33       238\n",
      "                  Tomato_Septoria_leaf_spot       0.58      0.66      0.62       443\n",
      "Tomato_Spider_mites_Two_spotted_spider_mite       0.60      0.66      0.63       419\n",
      "                        Tomato__Target_Spot       0.61      0.70      0.65       351\n",
      "      Tomato__Tomato_YellowLeaf__Curl_Virus       0.75      0.87      0.81       802\n",
      "                Tomato__Tomato_mosaic_virus       0.75      0.62      0.68        93\n",
      "                             Tomato_healthy       0.59      0.79      0.67       398\n",
      "\n",
      "                                   accuracy                           0.62      5160\n",
      "                                  macro avg       0.57      0.54      0.54      5160\n",
      "                               weighted avg       0.62      0.62      0.61      5160\n",
      "\n"
     ]
    }
   ],
   "source": [
    "from sklearn.svm import SVC\n",
    "from sklearn.model_selection import train_test_split\n",
    "from sklearn.metrics import classification_report\n",
    "\n",
    "features = [extract_histogram_moments(img) for img in images]\n",
    "X = np.array(features)\n",
    "y = np.array(labels)\n",
    "\n",
    "X_train, X_test, y_train, y_test = train_test_split(X, y, stratify=y)\n",
    "\n",
    "model = SVC()\n",
    "model.fit(X_train, y_train)\n",
    "y_pred = model.predict(X_test)\n",
    "\n",
    "print(\"Accuracy:\", model.score(X_test, y_test))\n",
    "print()\n",
    "print(classification_report(y_test,y_pred))"
   ]
  },
  {
   "cell_type": "markdown",
   "id": "f07227de-e6c7-4dbf-b0c7-4ad1be5571cb",
   "metadata": {},
   "source": [
    "## Combining 3 features extractions"
   ]
  },
  {
   "cell_type": "code",
   "execution_count": 54,
   "id": "57104d38-2a2f-428e-bfe2-f025e310df45",
   "metadata": {},
   "outputs": [],
   "source": [
    "def extract_all_color_features(image):\n",
    "    return np.concatenate([\n",
    "        extract_mean_color(image),\n",
    "        extract_color_histogram(image),\n",
    "        extract_color_moments(image),\n",
    "        extract_hsv_mean_only(image)\n",
    "    ])\n"
   ]
  },
  {
   "cell_type": "code",
   "execution_count": 55,
   "id": "91264b38-0fb9-42a2-b4a7-cadaf07f73c7",
   "metadata": {},
   "outputs": [
    {
     "name": "stdout",
     "output_type": "stream",
     "text": [
      "Accuracy: 0.6180232558139535\n",
      "\n"
     ]
    },
    {
     "name": "stderr",
     "output_type": "stream",
     "text": [
      "C:\\Users\\Siddu\\AppData\\Local\\Programs\\Python\\Python311\\Lib\\site-packages\\sklearn\\metrics\\_classification.py:1344: UndefinedMetricWarning: Precision and F-score are ill-defined and being set to 0.0 in labels with no predicted samples. Use `zero_division` parameter to control this behavior.\n",
      "  _warn_prf(average, modifier, msg_start, len(result))\n",
      "C:\\Users\\Siddu\\AppData\\Local\\Programs\\Python\\Python311\\Lib\\site-packages\\sklearn\\metrics\\_classification.py:1344: UndefinedMetricWarning: Precision and F-score are ill-defined and being set to 0.0 in labels with no predicted samples. Use `zero_division` parameter to control this behavior.\n",
      "  _warn_prf(average, modifier, msg_start, len(result))\n"
     ]
    },
    {
     "name": "stdout",
     "output_type": "stream",
     "text": [
      "                                             precision    recall  f1-score   support\n",
      "\n",
      "              Pepper__bell___Bacterial_spot       0.49      0.50      0.49       249\n",
      "                     Pepper__bell___healthy       0.41      0.45      0.43       370\n",
      "                      Potato___Early_blight       0.72      0.84      0.77       250\n",
      "                       Potato___Late_blight       0.42      0.47      0.44       250\n",
      "                           Potato___healthy       0.00      0.00      0.00        38\n",
      "                      Tomato_Bacterial_spot       0.76      0.80      0.78       532\n",
      "                        Tomato_Early_blight       0.40      0.19      0.26       250\n",
      "                         Tomato_Late_blight       0.62      0.42      0.50       477\n",
      "                           Tomato_Leaf_Mold       0.90      0.23      0.37       238\n",
      "                  Tomato_Septoria_leaf_spot       0.60      0.62      0.61       443\n",
      "Tomato_Spider_mites_Two_spotted_spider_mite       0.58      0.66      0.62       419\n",
      "                        Tomato__Target_Spot       0.57      0.67      0.62       351\n",
      "      Tomato__Tomato_YellowLeaf__Curl_Virus       0.75      0.87      0.80       802\n",
      "                Tomato__Tomato_mosaic_virus       0.77      0.57      0.65        93\n",
      "                             Tomato_healthy       0.60      0.78      0.68       398\n",
      "\n",
      "                                   accuracy                           0.62      5160\n",
      "                                  macro avg       0.57      0.54      0.53      5160\n",
      "                               weighted avg       0.62      0.62      0.60      5160\n",
      "\n"
     ]
    },
    {
     "name": "stderr",
     "output_type": "stream",
     "text": [
      "C:\\Users\\Siddu\\AppData\\Local\\Programs\\Python\\Python311\\Lib\\site-packages\\sklearn\\metrics\\_classification.py:1344: UndefinedMetricWarning: Precision and F-score are ill-defined and being set to 0.0 in labels with no predicted samples. Use `zero_division` parameter to control this behavior.\n",
      "  _warn_prf(average, modifier, msg_start, len(result))\n"
     ]
    }
   ],
   "source": [
    "from sklearn.svm import SVC\n",
    "from sklearn.model_selection import train_test_split\n",
    "from sklearn.metrics import classification_report\n",
    "\n",
    "features = [extract_histogram_moments(img) for img in images]\n",
    "X = np.array(features)\n",
    "y = np.array(labels)\n",
    "\n",
    "X_train, X_test, y_train, y_test = train_test_split(X, y, stratify=y)\n",
    "\n",
    "model = SVC()\n",
    "model.fit(X_train, y_train)\n",
    "y_pred = model.predict(X_test)\n",
    "\n",
    "print(\"Accuracy:\", model.score(X_test, y_test))\n",
    "print()\n",
    "print(classification_report(y_test,y_pred))"
   ]
  },
  {
   "cell_type": "markdown",
   "id": "ad696322-4648-4144-8684-8f00a8fe6bb7",
   "metadata": {},
   "source": [
    "## Texture Features"
   ]
  },
  {
   "cell_type": "markdown",
   "id": "9abe2d69-193a-44c6-aa5a-8a3e04e0b505",
   "metadata": {},
   "source": [
    "### Using GLCM"
   ]
  },
  {
   "cell_type": "code",
   "execution_count": 6,
   "id": "7858f079-1255-468e-a7ec-08bcd909db37",
   "metadata": {},
   "outputs": [],
   "source": [
    "from skimage.feature import graycomatrix, graycoprops\n",
    "from skimage.color import rgb2gray\n",
    "import cv2 as cv\n",
    "import numpy as np\n",
    "\n",
    "def extract_glcm_features(image):\n",
    "    gray_image = cv.resize(image, (128, 128))\n",
    "    gray_image = rgb2gray(gray_image) \n",
    "    gray_image = (gray_image * 255).astype(np.uint8) \n",
    "\n",
    "    glcm = graycomatrix(gray_image, [5], [0], 256, symmetric=True, normed=True)\n",
    "    glcm_props = np.hstack([\n",
    "        graycoprops(glcm, prop).flatten()\n",
    "        for prop in ['contrast', 'dissimilarity', 'homogeneity', 'energy', 'correlation']\n",
    "    ])\n",
    "\n",
    "    return glcm_props\n"
   ]
  },
  {
   "cell_type": "code",
   "execution_count": 8,
   "id": "0860286f-9905-4a78-938b-af61e9ebf135",
   "metadata": {},
   "outputs": [
    {
     "name": "stdout",
     "output_type": "stream",
     "text": [
      "Accuracy: 0.22093023255813954\n",
      "\n"
     ]
    },
    {
     "name": "stderr",
     "output_type": "stream",
     "text": [
      "C:\\Users\\Siddu\\AppData\\Local\\Programs\\Python\\Python311\\Lib\\site-packages\\sklearn\\metrics\\_classification.py:1344: UndefinedMetricWarning: Precision and F-score are ill-defined and being set to 0.0 in labels with no predicted samples. Use `zero_division` parameter to control this behavior.\n",
      "  _warn_prf(average, modifier, msg_start, len(result))\n",
      "C:\\Users\\Siddu\\AppData\\Local\\Programs\\Python\\Python311\\Lib\\site-packages\\sklearn\\metrics\\_classification.py:1344: UndefinedMetricWarning: Precision and F-score are ill-defined and being set to 0.0 in labels with no predicted samples. Use `zero_division` parameter to control this behavior.\n",
      "  _warn_prf(average, modifier, msg_start, len(result))\n"
     ]
    },
    {
     "name": "stdout",
     "output_type": "stream",
     "text": [
      "                                             precision    recall  f1-score   support\n",
      "\n",
      "              Pepper__bell___Bacterial_spot       0.00      0.00      0.00       249\n",
      "                     Pepper__bell___healthy       0.00      0.00      0.00       370\n",
      "                      Potato___Early_blight       0.14      0.05      0.08       250\n",
      "                       Potato___Late_blight       0.00      0.00      0.00       250\n",
      "                           Potato___healthy       0.00      0.00      0.00        38\n",
      "                      Tomato_Bacterial_spot       0.29      0.55      0.38       532\n",
      "                        Tomato_Early_blight       0.00      0.00      0.00       250\n",
      "                         Tomato_Late_blight       0.00      0.00      0.00       477\n",
      "                           Tomato_Leaf_Mold       0.00      0.00      0.00       238\n",
      "                  Tomato_Septoria_leaf_spot       0.00      0.00      0.00       443\n",
      "Tomato_Spider_mites_Two_spotted_spider_mite       0.15      0.51      0.23       419\n",
      "                        Tomato__Target_Spot       0.00      0.00      0.00       351\n",
      "      Tomato__Tomato_YellowLeaf__Curl_Virus       0.26      0.55      0.35       802\n",
      "                Tomato__Tomato_mosaic_virus       0.00      0.00      0.00        93\n",
      "                             Tomato_healthy       0.20      0.46      0.27       398\n",
      "\n",
      "                                   accuracy                           0.22      5160\n",
      "                                  macro avg       0.07      0.14      0.09      5160\n",
      "                               weighted avg       0.10      0.22      0.14      5160\n",
      "\n"
     ]
    },
    {
     "name": "stderr",
     "output_type": "stream",
     "text": [
      "C:\\Users\\Siddu\\AppData\\Local\\Programs\\Python\\Python311\\Lib\\site-packages\\sklearn\\metrics\\_classification.py:1344: UndefinedMetricWarning: Precision and F-score are ill-defined and being set to 0.0 in labels with no predicted samples. Use `zero_division` parameter to control this behavior.\n",
      "  _warn_prf(average, modifier, msg_start, len(result))\n"
     ]
    }
   ],
   "source": [
    "from sklearn.svm import SVC\n",
    "from sklearn.model_selection import train_test_split\n",
    "from sklearn.metrics import classification_report\n",
    "\n",
    "features = [extract_glcm_features(img) for img in images]\n",
    "X = np.array(features)\n",
    "y = np.array(labels)\n",
    "\n",
    "X_train, X_test, y_train, y_test = train_test_split(X, y, stratify=y)\n",
    "\n",
    "model = SVC()\n",
    "model.fit(X_train, y_train)\n",
    "y_pred = model.predict(X_test)\n",
    "\n",
    "print(\"Accuracy:\", model.score(X_test, y_test))\n",
    "print()\n",
    "print(classification_report(y_test,y_pred))"
   ]
  },
  {
   "cell_type": "markdown",
   "id": "f287aa27-8174-4972-8c45-c357653e9084",
   "metadata": {},
   "source": [
    "## Color histogram + GLCM"
   ]
  },
  {
   "cell_type": "code",
   "execution_count": 9,
   "id": "db206ad9-9139-4764-917e-819a5d14409e",
   "metadata": {},
   "outputs": [],
   "source": [
    "def extract_features(image):\n",
    "    return np.concatenate([\n",
    "        extract_color_histogram(image),\n",
    "        extract_glcm_features(image)\n",
    "    ])"
   ]
  },
  {
   "cell_type": "code",
   "execution_count": 14,
   "id": "eea76e69-5bca-4b67-9dd7-80b82424c03b",
   "metadata": {},
   "outputs": [
    {
     "name": "stdout",
     "output_type": "stream",
     "text": [
      "Accuracy: 0.22674418604651161\n",
      "\n"
     ]
    },
    {
     "name": "stderr",
     "output_type": "stream",
     "text": [
      "C:\\Users\\Siddu\\AppData\\Local\\Programs\\Python\\Python311\\Lib\\site-packages\\sklearn\\metrics\\_classification.py:1344: UndefinedMetricWarning: Precision and F-score are ill-defined and being set to 0.0 in labels with no predicted samples. Use `zero_division` parameter to control this behavior.\n",
      "  _warn_prf(average, modifier, msg_start, len(result))\n",
      "C:\\Users\\Siddu\\AppData\\Local\\Programs\\Python\\Python311\\Lib\\site-packages\\sklearn\\metrics\\_classification.py:1344: UndefinedMetricWarning: Precision and F-score are ill-defined and being set to 0.0 in labels with no predicted samples. Use `zero_division` parameter to control this behavior.\n",
      "  _warn_prf(average, modifier, msg_start, len(result))\n",
      "C:\\Users\\Siddu\\AppData\\Local\\Programs\\Python\\Python311\\Lib\\site-packages\\sklearn\\metrics\\_classification.py:1344: UndefinedMetricWarning: Precision and F-score are ill-defined and being set to 0.0 in labels with no predicted samples. Use `zero_division` parameter to control this behavior.\n",
      "  _warn_prf(average, modifier, msg_start, len(result))\n"
     ]
    },
    {
     "name": "stdout",
     "output_type": "stream",
     "text": [
      "                                             precision    recall  f1-score   support\n",
      "\n",
      "              Pepper__bell___Bacterial_spot       0.00      0.00      0.00       249\n",
      "                     Pepper__bell___healthy       0.00      0.00      0.00       370\n",
      "                      Potato___Early_blight       0.17      0.04      0.06       250\n",
      "                       Potato___Late_blight       0.00      0.00      0.00       250\n",
      "                           Potato___healthy       0.00      0.00      0.00        38\n",
      "                      Tomato_Bacterial_spot       0.29      0.54      0.38       532\n",
      "                        Tomato_Early_blight       0.00      0.00      0.00       250\n",
      "                         Tomato_Late_blight       1.00      0.01      0.02       477\n",
      "                           Tomato_Leaf_Mold       0.00      0.00      0.00       238\n",
      "                  Tomato_Septoria_leaf_spot       0.00      0.00      0.00       443\n",
      "Tomato_Spider_mites_Two_spotted_spider_mite       0.15      0.53      0.23       419\n",
      "                        Tomato__Target_Spot       0.00      0.00      0.00       351\n",
      "      Tomato__Tomato_YellowLeaf__Curl_Virus       0.28      0.60      0.39       802\n",
      "                Tomato__Tomato_mosaic_virus       0.00      0.00      0.00        93\n",
      "                             Tomato_healthy       0.18      0.41      0.25       398\n",
      "\n",
      "                                   accuracy                           0.23      5160\n",
      "                                  macro avg       0.14      0.14      0.09      5160\n",
      "                               weighted avg       0.20      0.23      0.14      5160\n",
      "\n"
     ]
    }
   ],
   "source": [
    "from sklearn.svm import SVC\n",
    "from sklearn.model_selection import train_test_split\n",
    "from sklearn.metrics import classification_report\n",
    "\n",
    "features = [extract_features(img) for img in images]\n",
    "X = np.array(features)\n",
    "y = np.array(labels)\n",
    "\n",
    "X_train, X_test, y_train, y_test = train_test_split(X, y, stratify=y)\n",
    "\n",
    "model = SVC()\n",
    "model.fit(X_train, y_train)\n",
    "y_pred = model.predict(X_test)\n",
    "\n",
    "print(\"Accuracy:\", model.score(X_test, y_test))\n",
    "print()\n",
    "print(classification_report(y_test,y_pred))"
   ]
  },
  {
   "cell_type": "markdown",
   "id": "92c61181-fee1-4aa7-8e34-cf6880785dcf",
   "metadata": {},
   "source": [
    "### Mean color + GLCM "
   ]
  },
  {
   "cell_type": "code",
   "execution_count": 16,
   "id": "bd7833c2-d0b4-4447-9c94-ccdad3e6488a",
   "metadata": {},
   "outputs": [],
   "source": [
    "def extract_features2(image):\n",
    "    return np.concatenate([\n",
    "        extract_mean_color(image),\n",
    "        extract_glcm_features(image)\n",
    "    ])"
   ]
  },
  {
   "cell_type": "code",
   "execution_count": 17,
   "id": "804f8803-6179-478a-93d7-23d60c30042c",
   "metadata": {},
   "outputs": [
    {
     "name": "stdout",
     "output_type": "stream",
     "text": [
      "Accuracy: 0.3763565891472868\n",
      "\n",
      "                                             precision    recall  f1-score   support\n",
      "\n",
      "              Pepper__bell___Bacterial_spot       0.55      0.16      0.25       249\n",
      "                     Pepper__bell___healthy       0.29      0.10      0.15       370\n",
      "                      Potato___Early_blight       0.45      0.62      0.52       250\n",
      "                       Potato___Late_blight       0.24      0.07      0.11       250\n",
      "                           Potato___healthy       0.00      0.00      0.00        38\n",
      "                      Tomato_Bacterial_spot       0.38      0.78      0.51       532\n",
      "                        Tomato_Early_blight       0.00      0.00      0.00       250\n",
      "                         Tomato_Late_blight       0.57      0.21      0.30       477\n",
      "                           Tomato_Leaf_Mold       0.00      0.00      0.00       238\n",
      "                  Tomato_Septoria_leaf_spot       0.53      0.33      0.41       443\n",
      "Tomato_Spider_mites_Two_spotted_spider_mite       0.20      0.48      0.29       419\n",
      "                        Tomato__Target_Spot       0.25      0.28      0.27       351\n",
      "      Tomato__Tomato_YellowLeaf__Curl_Virus       0.50      0.65      0.57       802\n",
      "                Tomato__Tomato_mosaic_virus       0.00      0.00      0.00        93\n",
      "                             Tomato_healthy       0.36      0.51      0.43       398\n",
      "\n",
      "                                   accuracy                           0.38      5160\n",
      "                                  macro avg       0.29      0.28      0.25      5160\n",
      "                               weighted avg       0.36      0.38      0.33      5160\n",
      "\n"
     ]
    },
    {
     "name": "stderr",
     "output_type": "stream",
     "text": [
      "C:\\Users\\Siddu\\AppData\\Local\\Programs\\Python\\Python311\\Lib\\site-packages\\sklearn\\metrics\\_classification.py:1344: UndefinedMetricWarning: Precision and F-score are ill-defined and being set to 0.0 in labels with no predicted samples. Use `zero_division` parameter to control this behavior.\n",
      "  _warn_prf(average, modifier, msg_start, len(result))\n",
      "C:\\Users\\Siddu\\AppData\\Local\\Programs\\Python\\Python311\\Lib\\site-packages\\sklearn\\metrics\\_classification.py:1344: UndefinedMetricWarning: Precision and F-score are ill-defined and being set to 0.0 in labels with no predicted samples. Use `zero_division` parameter to control this behavior.\n",
      "  _warn_prf(average, modifier, msg_start, len(result))\n",
      "C:\\Users\\Siddu\\AppData\\Local\\Programs\\Python\\Python311\\Lib\\site-packages\\sklearn\\metrics\\_classification.py:1344: UndefinedMetricWarning: Precision and F-score are ill-defined and being set to 0.0 in labels with no predicted samples. Use `zero_division` parameter to control this behavior.\n",
      "  _warn_prf(average, modifier, msg_start, len(result))\n"
     ]
    }
   ],
   "source": [
    "from sklearn.svm import SVC\n",
    "from sklearn.model_selection import train_test_split\n",
    "from sklearn.metrics import classification_report\n",
    "\n",
    "features = [extract_features2(img) for img in images]\n",
    "X = np.array(features)\n",
    "y = np.array(labels)\n",
    "\n",
    "X_train, X_test, y_train, y_test = train_test_split(X, y, stratify=y)\n",
    "\n",
    "model = SVC()\n",
    "model.fit(X_train, y_train)\n",
    "y_pred = model.predict(X_test)\n",
    "\n",
    "print(\"Accuracy:\", model.score(X_test, y_test))\n",
    "print()\n",
    "print(classification_report(y_test,y_pred))"
   ]
  },
  {
   "cell_type": "markdown",
   "id": "6c1ecb22-f67f-4cd1-9f68-b3e0696ba57b",
   "metadata": {},
   "source": [
    "## Local Binary Pattern (LBP) Histogram"
   ]
  },
  {
   "cell_type": "code",
   "execution_count": 19,
   "id": "3092d36b-359d-47a5-9060-c0136dcb27e0",
   "metadata": {},
   "outputs": [],
   "source": [
    "from skimage.feature import local_binary_pattern\n",
    "from skimage.color import rgb2gray\n",
    "import cv2\n",
    "import numpy as np\n",
    "\n",
    "def extract_lbp_features(image):\n",
    "    gray = cv2.resize(image, (128, 128))\n",
    "    gray = rgb2gray(gray)\n",
    "\n",
    "    radius = 1\n",
    "    n_points = 8 * radius\n",
    "\n",
    "    lbp = local_binary_pattern(gray, n_points, radius, method='uniform')\n",
    "\n",
    "    (hist, _) = np.histogram(lbp.ravel(),\n",
    "                             bins=np.arange(0, n_points + 3),\n",
    "                             range=(0, n_points + 2))\n",
    "\n",
    "    hist = hist.astype(\"float\")\n",
    "    hist /= (hist.sum() + 1e-6)\n",
    "\n",
    "    return hist\n"
   ]
  },
  {
   "cell_type": "code",
   "execution_count": 20,
   "id": "b4f1ab01-db15-4f4d-bd22-831eba3c4b1e",
   "metadata": {},
   "outputs": [
    {
     "name": "stderr",
     "output_type": "stream",
     "text": [
      "C:\\Users\\Siddu\\AppData\\Local\\Programs\\Python\\Python311\\Lib\\site-packages\\skimage\\feature\\texture.py:385: UserWarning: Applying `local_binary_pattern` to floating-point images may give unexpected results when small numerical differences between adjacent pixels are present. It is recommended to use this function with images of integer dtype.\n",
      "  warnings.warn(\n"
     ]
    },
    {
     "name": "stdout",
     "output_type": "stream",
     "text": [
      "Accuracy: 0.3815891472868217\n",
      "\n"
     ]
    },
    {
     "name": "stderr",
     "output_type": "stream",
     "text": [
      "C:\\Users\\Siddu\\AppData\\Local\\Programs\\Python\\Python311\\Lib\\site-packages\\sklearn\\metrics\\_classification.py:1344: UndefinedMetricWarning: Precision and F-score are ill-defined and being set to 0.0 in labels with no predicted samples. Use `zero_division` parameter to control this behavior.\n",
      "  _warn_prf(average, modifier, msg_start, len(result))\n",
      "C:\\Users\\Siddu\\AppData\\Local\\Programs\\Python\\Python311\\Lib\\site-packages\\sklearn\\metrics\\_classification.py:1344: UndefinedMetricWarning: Precision and F-score are ill-defined and being set to 0.0 in labels with no predicted samples. Use `zero_division` parameter to control this behavior.\n",
      "  _warn_prf(average, modifier, msg_start, len(result))\n"
     ]
    },
    {
     "name": "stdout",
     "output_type": "stream",
     "text": [
      "                                             precision    recall  f1-score   support\n",
      "\n",
      "              Pepper__bell___Bacterial_spot       0.37      0.20      0.26       249\n",
      "                     Pepper__bell___healthy       0.26      0.14      0.18       370\n",
      "                      Potato___Early_blight       0.52      0.36      0.42       250\n",
      "                       Potato___Late_blight       0.55      0.16      0.25       250\n",
      "                           Potato___healthy       0.00      0.00      0.00        38\n",
      "                      Tomato_Bacterial_spot       0.38      0.76      0.50       532\n",
      "                        Tomato_Early_blight       0.14      0.00      0.01       250\n",
      "                         Tomato_Late_blight       0.50      0.34      0.40       477\n",
      "                           Tomato_Leaf_Mold       0.00      0.00      0.00       238\n",
      "                  Tomato_Septoria_leaf_spot       0.23      0.16      0.19       443\n",
      "Tomato_Spider_mites_Two_spotted_spider_mite       0.26      0.42      0.32       419\n",
      "                        Tomato__Target_Spot       0.25      0.27      0.26       351\n",
      "      Tomato__Tomato_YellowLeaf__Curl_Virus       0.45      0.68      0.54       802\n",
      "                Tomato__Tomato_mosaic_virus       0.00      0.00      0.00        93\n",
      "                             Tomato_healthy       0.48      0.71      0.58       398\n",
      "\n",
      "                                   accuracy                           0.38      5160\n",
      "                                  macro avg       0.29      0.28      0.26      5160\n",
      "                               weighted avg       0.34      0.38      0.34      5160\n",
      "\n"
     ]
    },
    {
     "name": "stderr",
     "output_type": "stream",
     "text": [
      "C:\\Users\\Siddu\\AppData\\Local\\Programs\\Python\\Python311\\Lib\\site-packages\\sklearn\\metrics\\_classification.py:1344: UndefinedMetricWarning: Precision and F-score are ill-defined and being set to 0.0 in labels with no predicted samples. Use `zero_division` parameter to control this behavior.\n",
      "  _warn_prf(average, modifier, msg_start, len(result))\n"
     ]
    }
   ],
   "source": [
    "from sklearn.svm import SVC\n",
    "from sklearn.model_selection import train_test_split\n",
    "from sklearn.metrics import classification_report\n",
    "\n",
    "features = [extract_lbp_features(img) for img in images]\n",
    "X = np.array(features)\n",
    "y = np.array(labels)\n",
    "\n",
    "X_train, X_test, y_train, y_test = train_test_split(X, y, stratify=y)\n",
    "\n",
    "model = SVC()\n",
    "model.fit(X_train, y_train)\n",
    "y_pred = model.predict(X_test)\n",
    "\n",
    "print(\"Accuracy:\", model.score(X_test, y_test))\n",
    "print()\n",
    "print(classification_report(y_test,y_pred))"
   ]
  },
  {
   "cell_type": "markdown",
   "id": "3a9fc4d0-be6f-461c-a13b-03cfd6e71bf1",
   "metadata": {},
   "source": [
    "## LBP + mean color"
   ]
  },
  {
   "cell_type": "code",
   "execution_count": 22,
   "id": "e3c9975d-4dbd-48e8-a385-2c93cfa788f9",
   "metadata": {},
   "outputs": [],
   "source": [
    "def extract_features3(image):\n",
    "    return np.concatenate([\n",
    "        extract_mean_color(image),\n",
    "        extract_lbp_features(image)\n",
    "    ])"
   ]
  },
  {
   "cell_type": "code",
   "execution_count": 23,
   "id": "77501830-ccb7-488c-ac6e-cebe7e2510a1",
   "metadata": {},
   "outputs": [
    {
     "name": "stderr",
     "output_type": "stream",
     "text": [
      "C:\\Users\\Siddu\\AppData\\Local\\Programs\\Python\\Python311\\Lib\\site-packages\\skimage\\feature\\texture.py:385: UserWarning: Applying `local_binary_pattern` to floating-point images may give unexpected results when small numerical differences between adjacent pixels are present. It is recommended to use this function with images of integer dtype.\n",
      "  warnings.warn(\n"
     ]
    },
    {
     "name": "stdout",
     "output_type": "stream",
     "text": [
      "Accuracy: 0.5184108527131783\n",
      "\n",
      "                                             precision    recall  f1-score   support\n",
      "\n",
      "              Pepper__bell___Bacterial_spot       0.42      0.29      0.35       249\n",
      "                     Pepper__bell___healthy       0.65      0.64      0.65       370\n",
      "                      Potato___Early_blight       0.77      0.81      0.79       250\n",
      "                       Potato___Late_blight       0.33      0.23      0.27       250\n",
      "                           Potato___healthy       0.00      0.00      0.00        38\n",
      "                      Tomato_Bacterial_spot       0.56      0.72      0.63       532\n",
      "                        Tomato_Early_blight       0.00      0.00      0.00       250\n",
      "                         Tomato_Late_blight       0.53      0.24      0.33       477\n",
      "                           Tomato_Leaf_Mold       0.75      0.21      0.33       238\n",
      "                  Tomato_Septoria_leaf_spot       0.50      0.66      0.57       443\n",
      "Tomato_Spider_mites_Two_spotted_spider_mite       0.43      0.29      0.35       419\n",
      "                        Tomato__Target_Spot       0.35      0.58      0.44       351\n",
      "      Tomato__Tomato_YellowLeaf__Curl_Virus       0.56      0.83      0.66       802\n",
      "                Tomato__Tomato_mosaic_virus       1.00      0.05      0.10        93\n",
      "                             Tomato_healthy       0.48      0.67      0.56       398\n",
      "\n",
      "                                   accuracy                           0.52      5160\n",
      "                                  macro avg       0.49      0.42      0.40      5160\n",
      "                               weighted avg       0.50      0.52      0.48      5160\n",
      "\n"
     ]
    },
    {
     "name": "stderr",
     "output_type": "stream",
     "text": [
      "C:\\Users\\Siddu\\AppData\\Local\\Programs\\Python\\Python311\\Lib\\site-packages\\sklearn\\metrics\\_classification.py:1344: UndefinedMetricWarning: Precision and F-score are ill-defined and being set to 0.0 in labels with no predicted samples. Use `zero_division` parameter to control this behavior.\n",
      "  _warn_prf(average, modifier, msg_start, len(result))\n",
      "C:\\Users\\Siddu\\AppData\\Local\\Programs\\Python\\Python311\\Lib\\site-packages\\sklearn\\metrics\\_classification.py:1344: UndefinedMetricWarning: Precision and F-score are ill-defined and being set to 0.0 in labels with no predicted samples. Use `zero_division` parameter to control this behavior.\n",
      "  _warn_prf(average, modifier, msg_start, len(result))\n",
      "C:\\Users\\Siddu\\AppData\\Local\\Programs\\Python\\Python311\\Lib\\site-packages\\sklearn\\metrics\\_classification.py:1344: UndefinedMetricWarning: Precision and F-score are ill-defined and being set to 0.0 in labels with no predicted samples. Use `zero_division` parameter to control this behavior.\n",
      "  _warn_prf(average, modifier, msg_start, len(result))\n"
     ]
    }
   ],
   "source": [
    "from sklearn.svm import SVC\n",
    "from sklearn.model_selection import train_test_split\n",
    "from sklearn.metrics import classification_report\n",
    "\n",
    "features = [extract_features3(img) for img in images]\n",
    "X = np.array(features)\n",
    "y = np.array(labels)\n",
    "\n",
    "X_train, X_test, y_train, y_test = train_test_split(X, y, stratify=y)\n",
    "\n",
    "model = SVC()\n",
    "model.fit(X_train, y_train)\n",
    "y_pred = model.predict(X_test)\n",
    "\n",
    "print(\"Accuracy:\", model.score(X_test, y_test))\n",
    "print()\n",
    "print(classification_report(y_test,y_pred))"
   ]
  },
  {
   "cell_type": "markdown",
   "id": "00f20b8f-aa76-4300-bca8-e098bc5b097f",
   "metadata": {},
   "source": [
    "## Meancolor + LBP + color histogram + hsv + color moments"
   ]
  },
  {
   "cell_type": "code",
   "execution_count": 31,
   "id": "db6f4270-a7e3-4f35-ae12-8b8af183a101",
   "metadata": {},
   "outputs": [],
   "source": [
    "def extract_features4(image):\n",
    "    return np.concatenate([\n",
    "        extract_mean_color(image),\n",
    "        extract_color_histogram(image),\n",
    "        extract_color_moments(image),\n",
    "        extract_hsv_mean_only(image),\n",
    "        extract_lbp_features(image),\n",
    "    ])"
   ]
  },
  {
   "cell_type": "code",
   "execution_count": 32,
   "id": "b0981406-2b31-4b7c-8ce1-217f9d1162f0",
   "metadata": {},
   "outputs": [
    {
     "name": "stderr",
     "output_type": "stream",
     "text": [
      "C:\\Users\\Siddu\\AppData\\Local\\Programs\\Python\\Python311\\Lib\\site-packages\\skimage\\feature\\texture.py:385: UserWarning: Applying `local_binary_pattern` to floating-point images may give unexpected results when small numerical differences between adjacent pixels are present. It is recommended to use this function with images of integer dtype.\n",
      "  warnings.warn(\n"
     ]
    },
    {
     "name": "stdout",
     "output_type": "stream",
     "text": [
      "Accuracy: 0.612015503875969\n",
      "\n",
      "                                             precision    recall  f1-score   support\n",
      "\n",
      "              Pepper__bell___Bacterial_spot       0.50      0.52      0.51       249\n",
      "                     Pepper__bell___healthy       0.60      0.61      0.60       370\n",
      "                      Potato___Early_blight       0.76      0.86      0.81       250\n",
      "                       Potato___Late_blight       0.39      0.36      0.37       250\n",
      "                           Potato___healthy       0.00      0.00      0.00        38\n",
      "                      Tomato_Bacterial_spot       0.70      0.78      0.74       532\n",
      "                        Tomato_Early_blight       0.39      0.14      0.20       250\n",
      "                         Tomato_Late_blight       0.70      0.31      0.43       477\n",
      "                           Tomato_Leaf_Mold       0.84      0.24      0.37       238\n",
      "                  Tomato_Septoria_leaf_spot       0.56      0.68      0.61       443\n",
      "Tomato_Spider_mites_Two_spotted_spider_mite       0.56      0.66      0.61       419\n",
      "                        Tomato__Target_Spot       0.54      0.70      0.60       351\n",
      "      Tomato__Tomato_YellowLeaf__Curl_Virus       0.72      0.88      0.79       802\n",
      "                Tomato__Tomato_mosaic_virus       0.81      0.32      0.46        93\n",
      "                             Tomato_healthy       0.53      0.73      0.62       398\n",
      "\n",
      "                                   accuracy                           0.61      5160\n",
      "                                  macro avg       0.57      0.52      0.51      5160\n",
      "                               weighted avg       0.61      0.61      0.59      5160\n",
      "\n"
     ]
    },
    {
     "name": "stderr",
     "output_type": "stream",
     "text": [
      "C:\\Users\\Siddu\\AppData\\Local\\Programs\\Python\\Python311\\Lib\\site-packages\\sklearn\\metrics\\_classification.py:1344: UndefinedMetricWarning: Precision and F-score are ill-defined and being set to 0.0 in labels with no predicted samples. Use `zero_division` parameter to control this behavior.\n",
      "  _warn_prf(average, modifier, msg_start, len(result))\n",
      "C:\\Users\\Siddu\\AppData\\Local\\Programs\\Python\\Python311\\Lib\\site-packages\\sklearn\\metrics\\_classification.py:1344: UndefinedMetricWarning: Precision and F-score are ill-defined and being set to 0.0 in labels with no predicted samples. Use `zero_division` parameter to control this behavior.\n",
      "  _warn_prf(average, modifier, msg_start, len(result))\n",
      "C:\\Users\\Siddu\\AppData\\Local\\Programs\\Python\\Python311\\Lib\\site-packages\\sklearn\\metrics\\_classification.py:1344: UndefinedMetricWarning: Precision and F-score are ill-defined and being set to 0.0 in labels with no predicted samples. Use `zero_division` parameter to control this behavior.\n",
      "  _warn_prf(average, modifier, msg_start, len(result))\n"
     ]
    }
   ],
   "source": [
    "from sklearn.svm import SVC\n",
    "from sklearn.model_selection import train_test_split\n",
    "from sklearn.metrics import classification_report\n",
    "\n",
    "features = [extract_features4(img) for img in images]\n",
    "X = np.array(features)\n",
    "y = np.array(labels)\n",
    "\n",
    "X_train, X_test, y_train, y_test = train_test_split(X, y, stratify=y)\n",
    "\n",
    "model = SVC()\n",
    "model.fit(X_train, y_train)\n",
    "y_pred = model.predict(X_test)\n",
    "\n",
    "print(\"Accuracy:\", model.score(X_test, y_test))\n",
    "print()\n",
    "print(classification_report(y_test,y_pred))"
   ]
  },
  {
   "cell_type": "code",
   "execution_count": null,
   "id": "a316fbed-e350-4731-9a00-e91b4330dfde",
   "metadata": {},
   "outputs": [],
   "source": []
  }
 ],
 "metadata": {
  "kernelspec": {
   "display_name": "Python (torch_env)",
   "language": "python",
   "name": "torch_env"
  },
  "language_info": {
   "codemirror_mode": {
    "name": "ipython",
    "version": 3
   },
   "file_extension": ".py",
   "mimetype": "text/x-python",
   "name": "python",
   "nbconvert_exporter": "python",
   "pygments_lexer": "ipython3",
   "version": "3.11.5"
  }
 },
 "nbformat": 4,
 "nbformat_minor": 5
}
