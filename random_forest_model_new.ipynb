{
 "cells": [
  {
   "cell_type": "code",
   "execution_count": 1,
   "id": "c19e1a50",
   "metadata": {},
   "outputs": [],
   "source": [
    "import os\n",
    "import cv2\n",
    "import joblib\n",
    "import numpy as np\n",
    "import pandas as pd\n",
    "from tqdm import tqdm\n",
    "from skimage.feature import local_binary_pattern, graycomatrix, graycoprops\n",
    "from sklearn.model_selection import train_test_split\n",
    "from sklearn.preprocessing import LabelEncoder\n",
    "from sklearn.ensemble import RandomForestClassifier\n",
    "from sklearn.metrics import classification_report, accuracy_score"
   ]
  },
  {
   "cell_type": "code",
   "execution_count": 2,
   "id": "f60a577c",
   "metadata": {},
   "outputs": [],
   "source": [
    "DATASET_DIR = \"PlantVillage\"  # path to dataset folder\n",
    "IMAGE_SIZE = (256, 256)       # resize images\n",
    "LBP_RADIUS = 1\n",
    "LBP_POINTS = 8 * LBP_RADIUS\n",
    "LBP_METHOD = 'uniform'"
   ]
  },
  {
   "cell_type": "code",
   "execution_count": 3,
   "id": "6faf636d",
   "metadata": {},
   "outputs": [],
   "source": [
    "# ==============================================================================\n",
    "# 2. FEATURE EXTRACTION FUNCTIONS\n",
    "# ==============================================================================\n",
    "\n",
    "def extract_color_features(image):\n",
    "    \"\"\"Extracts mean/std of RGB & HSV channels, plus a 3D HSV color histogram.\"\"\"\n",
    "    features = []\n",
    "    \n",
    "    # RGB mean/std (Channels are BGR in OpenCV)\n",
    "    for i in range(3):\n",
    "        features.append(np.mean(image[:, :, i]))\n",
    "        features.append(np.std(image[:, :, i]))\n",
    "    \n",
    "    # Convert to HSV and get mean/std\n",
    "    hsv = cv2.cvtColor(image, cv2.COLOR_BGR2HSV)\n",
    "    for i in range(3):\n",
    "        features.append(np.mean(hsv[:, :, i]))\n",
    "        features.append(np.std(hsv[:, :, i]))\n",
    "    \n",
    "    # 3D Color histogram in HSV space\n",
    "    hist = cv2.calcHist([hsv], [0, 1, 2], None, [8, 8, 8],\n",
    "                        [0, 180, 0, 256, 0, 256])\n",
    "    cv2.normalize(hist, hist)\n",
    "    features.extend(hist.flatten())\n",
    "    \n",
    "    return features\n",
    "\n",
    "def extract_texture_features(image):\n",
    "    \"\"\"Extracts texture features using both LBP and GLCM.\"\"\"\n",
    "    gray = cv2.cvtColor(image, cv2.COLOR_BGR2GRAY)\n",
    "    \n",
    "    # --- LBP Feature Extraction ---\n",
    "    lbp = local_binary_pattern(gray, LBP_POINTS, LBP_RADIUS, method=LBP_METHOD)\n",
    "    (lbp_hist, _) = np.histogram(lbp.ravel(),\n",
    "                             bins=np.arange(0, LBP_POINTS + 3),\n",
    "                             range=(0, LBP_POINTS + 2))\n",
    "    lbp_hist = lbp_hist.astype(\"float\")\n",
    "    lbp_hist /= (lbp_hist.sum() + 1e-7)  # Normalize\n",
    "    \n",
    "    # --- GLCM Feature Extraction ---\n",
    "    glcm = graycomatrix(gray, distances=[1, 3, 5], angles=[0, np.pi/4, np.pi/2],\n",
    "                        levels=256, symmetric=True, normed=True)\n",
    "    \n",
    "    glcm_props = [np.mean(graycoprops(glcm, prop)) for prop in \n",
    "                  ['contrast', 'dissimilarity', 'homogeneity', 'energy', 'correlation']]\n",
    "    \n",
    "    # --- Combine features ---\n",
    "    combined_texture_feats = np.hstack([lbp_hist, glcm_props])\n",
    "    \n",
    "    return combined_texture_feats.tolist()\n",
    "\n",
    "def extract_shape_features(image):\n",
    "    \"\"\"Extracts shape features (aspect ratio, extent, solidity) from the largest contour.\"\"\"\n",
    "    gray = cv2.cvtColor(image, cv2.COLOR_BGR2GRAY)\n",
    "    _, thresh = cv2.threshold(gray, 0, 255, cv2.THRESH_BINARY_INV + cv2.THRESH_OTSU)\n",
    "    \n",
    "    contours, _ = cv2.findContours(thresh, cv2.RETR_EXTERNAL, cv2.CHAIN_APPROX_SIMPLE)\n",
    "    if not contours:\n",
    "        return [0, 0, 0]\n",
    "    \n",
    "    largest_contour = max(contours, key=cv2.contourArea)\n",
    "    x, y, w, h = cv2.boundingRect(largest_contour)\n",
    "    \n",
    "    aspect_ratio = float(w) / h if h != 0 else 0\n",
    "    area = cv2.contourArea(largest_contour)\n",
    "    rect_area = w * h\n",
    "    extent = float(area) / rect_area if rect_area != 0 else 0\n",
    "    \n",
    "    hull = cv2.convexHull(largest_contour)\n",
    "    hull_area = cv2.contourArea(hull)\n",
    "    solidity = float(area) / hull_area if hull_area != 0 else 0\n",
    "    \n",
    "    return [aspect_ratio, extent, solidity]\n",
    "\n"
   ]
  },
  {
   "cell_type": "code",
   "execution_count": 4,
   "id": "45173da7",
   "metadata": {},
   "outputs": [
    {
     "name": "stdout",
     "output_type": "stream",
     "text": [
      "Starting feature extraction...\n"
     ]
    },
    {
     "name": "stderr",
     "output_type": "stream",
     "text": [
      "Processing Images: 100%|█████████████████████████████████████████████████████████████| 997/997 [01:57<00:00,  8.48it/s]\n",
      "Processing Images: 100%|███████████████████████████████████████████████████████████| 1478/1478 [02:54<00:00,  8.46it/s]\n",
      "Processing Images: 100%|███████████████████████████████████████████████████████████| 1000/1000 [02:04<00:00,  8.05it/s]\n",
      "Processing Images: 100%|█████████████████████████████████████████████████████████████| 152/152 [00:18<00:00,  8.07it/s]\n",
      "Processing Images: 100%|███████████████████████████████████████████████████████████| 1000/1000 [02:00<00:00,  8.27it/s]\n",
      "Processing Images: 100%|███████████████████████████████████████████████████████████| 2127/2127 [04:21<00:00,  8.13it/s]\n",
      "Processing Images: 100%|███████████████████████████████████████████████████████████| 1000/1000 [01:58<00:00,  8.46it/s]\n",
      "Processing Images: 100%|███████████████████████████████████████████████████████████| 1591/1591 [03:18<00:00,  8.03it/s]\n",
      "Processing Images: 100%|███████████████████████████████████████████████████████████| 1909/1909 [03:41<00:00,  8.62it/s]\n",
      "Processing Images: 100%|█████████████████████████████████████████████████████████████| 952/952 [01:43<00:00,  9.19it/s]\n",
      "Processing Images: 100%|███████████████████████████████████████████████████████████| 1771/1771 [03:31<00:00,  8.39it/s]\n",
      "Processing Images: 100%|███████████████████████████████████████████████████████████| 1676/1676 [03:14<00:00,  8.60it/s]\n",
      "Processing Images: 100%|███████████████████████████████████████████████████████████| 1404/1404 [02:41<00:00,  8.71it/s]\n",
      "Processing Images: 100%|█████████████████████████████████████████████████████████████| 373/373 [00:45<00:00,  8.17it/s]\n",
      "Processing Images: 100%|███████████████████████████████████████████████████████████| 3208/3208 [06:06<00:00,  8.74it/s]"
     ]
    },
    {
     "name": "stdout",
     "output_type": "stream",
     "text": [
      "Feature extraction complete.\n"
     ]
    },
    {
     "name": "stderr",
     "output_type": "stream",
     "text": [
      "\n"
     ]
    }
   ],
   "source": [
    "if __name__ == \"__main__\":\n",
    "    # --- Data Loading and Feature Extraction ---\n",
    "    print(\"Starting feature extraction...\")\n",
    "    data = []\n",
    "    labels = []\n",
    "    \n",
    "    class_folders = [f for f in os.listdir(DATASET_DIR) if os.path.isdir(os.path.join(DATASET_DIR, f))]\n",
    "    \n",
    "    for folder in class_folders:\n",
    "        folder_path = os.path.join(DATASET_DIR, folder)\n",
    "        \n",
    "        for file in tqdm(os.listdir(folder_path),desc=\"Processing Images\"):\n",
    "            img_path = os.path.join(folder_path, file)\n",
    "            image = cv2.imread(img_path)\n",
    "            \n",
    "            if image is None:\n",
    "                print(f\"Warning: Could not read image {img_path}. Skipping.\")\n",
    "                continue\n",
    "            \n",
    "            image_resized = cv2.resize(image, IMAGE_SIZE)\n",
    "            \n",
    "            # Extract all feature sets\n",
    "            color_feats = extract_color_features(image_resized)\n",
    "            texture_feats = extract_texture_features(image_resized)\n",
    "            shape_feats = extract_shape_features(image_resized)\n",
    "            \n",
    "            # Combine all features into a single list\n",
    "            features = color_feats + texture_feats + shape_feats\n",
    "            \n",
    "            data.append(features)\n",
    "            labels.append(folder)\n",
    "    \n",
    "    print(\"Feature extraction complete.\")"
   ]
  },
  {
   "cell_type": "code",
   "execution_count": 5,
   "id": "40337ab6",
   "metadata": {},
   "outputs": [
    {
     "name": "stdout",
     "output_type": "stream",
     "text": [
      "Preparing data for training...\n",
      "Data split into 16510 training samples and 4128 testing samples.\n"
     ]
    }
   ],
   "source": [
    "  # --- Data Preparation for ML ---\n",
    "print(\"Preparing data for training...\")\n",
    "df = pd.DataFrame(data)\n",
    "le = LabelEncoder()\n",
    "labels_encoded = le.fit_transform(labels)\n",
    "\n",
    "X_train, X_test, y_train, y_test = train_test_split(\n",
    "    df, \n",
    "    labels_encoded,\n",
    "    test_size=0.2,\n",
    "    random_state=42,\n",
    "    stratify=labels_encoded\n",
    ")\n",
    "print(f\"Data split into {len(X_train)} training samples and {len(X_test)} testing samples.\")"
   ]
  },
  {
   "cell_type": "code",
   "execution_count": 6,
   "id": "d3d549af",
   "metadata": {},
   "outputs": [
    {
     "name": "stdout",
     "output_type": "stream",
     "text": [
      "Training the RandomForestClassifier model...\n",
      "Model training complete.\n"
     ]
    }
   ],
   "source": [
    "# --- Model Training ---\n",
    "print(\"Training the RandomForestClassifier model...\")\n",
    "clf = RandomForestClassifier(n_estimators=100, random_state=42, n_jobs=-1)\n",
    "clf.fit(X_train, y_train)\n",
    "print(\"Model training complete.\")"
   ]
  },
  {
   "cell_type": "code",
   "execution_count": 7,
   "id": "1fa255bb",
   "metadata": {},
   "outputs": [
    {
     "name": "stdout",
     "output_type": "stream",
     "text": [
      "\n",
      "--- Model Evaluation ---\n",
      "Model Accuracy: 96.95%\n",
      "\n",
      "Classification Report:\n",
      "                                             precision    recall  f1-score   support\n",
      "\n",
      "              Pepper__bell___Bacterial_spot       0.99      0.97      0.98       199\n",
      "                     Pepper__bell___healthy       0.95      0.99      0.97       296\n",
      "                      Potato___Early_blight       0.99      0.98      0.98       200\n",
      "                       Potato___Late_blight       0.95      0.97      0.96       200\n",
      "                           Potato___healthy       1.00      0.77      0.87        30\n",
      "                      Tomato_Bacterial_spot       0.97      0.97      0.97       426\n",
      "                        Tomato_Early_blight       0.97      0.86      0.92       200\n",
      "                         Tomato_Late_blight       0.96      0.96      0.96       382\n",
      "                           Tomato_Leaf_Mold       0.98      0.99      0.99       190\n",
      "                  Tomato_Septoria_leaf_spot       0.97      0.96      0.96       354\n",
      "Tomato_Spider_mites_Two_spotted_spider_mite       0.95      0.98      0.97       335\n",
      "                        Tomato__Target_Spot       0.99      0.95      0.97       281\n",
      "      Tomato__Tomato_YellowLeaf__Curl_Virus       0.97      0.99      0.98       642\n",
      "                Tomato__Tomato_mosaic_virus       0.97      0.96      0.97        75\n",
      "                             Tomato_healthy       1.00      0.99      1.00       318\n",
      "\n",
      "                                   accuracy                           0.97      4128\n",
      "                                  macro avg       0.97      0.95      0.96      4128\n",
      "                               weighted avg       0.97      0.97      0.97      4128\n",
      "\n"
     ]
    }
   ],
   "source": [
    "\n",
    "# --- Model Evaluation ---\n",
    "print(\"\\n--- Model Evaluation ---\")\n",
    "y_pred = clf.predict(X_test)\n",
    "accuracy = accuracy_score(y_test, y_pred)\n",
    "\n",
    "print(f\"Model Accuracy: {accuracy * 100:.2f}%\")\n",
    "print(\"\\nClassification Report:\")\n",
    "print(classification_report(y_test, y_pred, target_names=le.classes_))"
   ]
  },
  {
   "cell_type": "code",
   "execution_count": null,
   "id": "85e9c4df",
   "metadata": {},
   "outputs": [],
   "source": [
    "# --- Model Saving ---\n",
    "model_filename = 'plant_disease_classifier.joblib'\n",
    "joblib.dump(clf, model_filename)\n",
    "joblib.dump(le, 'label_encoder.joblib') # Also save the label encoder\n",
    "print(f\"\\nTrained model saved as '{model_filename}'\")\n",
    "print(f\"Label encoder saved as 'label_encoder.joblib'\")"
   ]
  }
 ],
 "metadata": {
  "kernelspec": {
   "display_name": "Python 3 (ipykernel)",
   "language": "python",
   "name": "python3"
  },
  "language_info": {
   "codemirror_mode": {
    "name": "ipython",
    "version": 3
   },
   "file_extension": ".py",
   "mimetype": "text/x-python",
   "name": "python",
   "nbconvert_exporter": "python",
   "pygments_lexer": "ipython3",
   "version": "3.10.0"
  }
 },
 "nbformat": 4,
 "nbformat_minor": 5
}
