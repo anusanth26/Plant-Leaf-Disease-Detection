{
 "cells": [
  {
   "cell_type": "code",
   "execution_count": 1,
   "id": "4c130e0e",
   "metadata": {},
   "outputs": [],
   "source": [
    "import os\n",
    "import joblib\n",
    "import cv2\n",
    "import numpy as np\n",
    "from skimage.feature import local_binary_pattern"
   ]
  },
  {
   "cell_type": "code",
   "execution_count": 2,
   "id": "5f499b18",
   "metadata": {},
   "outputs": [],
   "source": [
    "model = joblib.load(\"KNN_Model\")\n",
    "le = joblib.load(\"KNN_Label_Encoder\")\n",
    "\n",
    "INPUT_DIR = \"Custom_Input\"\n",
    "\n",
    "IMAGE_SIZE = (256, 256)\n",
    "LBP_RADIUS = 1\n",
    "LBP_POINTS = 8 * LBP_RADIUS\n",
    "LBP_METHOD = 'uniform'"
   ]
  },
  {
   "cell_type": "code",
   "execution_count": 3,
   "id": "10a214c5",
   "metadata": {},
   "outputs": [],
   "source": [
    "def extract_color_features(image):\n",
    "    features = []\n",
    "    for i in range(3):\n",
    "        features.append(np.mean(image[:, :, i]))\n",
    "        features.append(np.std(image[:, :, i]))\n",
    "    hsv = cv2.cvtColor(image, cv2.COLOR_BGR2HSV)\n",
    "    for i in range(3):\n",
    "        features.append(np.mean(hsv[:, :, i]))\n",
    "        features.append(np.std(hsv[:, :, i]))\n",
    "    hist = cv2.calcHist([hsv], [0, 1, 2], None, [8, 8, 8], [0, 180, 0, 256, 0, 256])\n",
    "    hist = cv2.normalize(hist, hist).flatten()\n",
    "    features.extend(hist)\n",
    "    return features\n",
    "\n",
    "\n",
    "\n",
    "def extract_texture_features(image):\n",
    "    gray = cv2.cvtColor(image, cv2.COLOR_BGR2GRAY)\n",
    "    lbp = local_binary_pattern(gray, LBP_POINTS, LBP_RADIUS, method=LBP_METHOD)\n",
    "    (hist, _) = np.histogram(lbp.ravel(), bins=np.arange(0, LBP_POINTS + 3), range=(0, LBP_POINTS + 2))\n",
    "    hist = hist.astype(\"float\")\n",
    "    hist /= (hist.sum() + 1e-6)\n",
    "    return hist.tolist()\n",
    "\n",
    "\n",
    "\n",
    "def extract_shape_features(image):\n",
    "    gray = cv2.cvtColor(image, cv2.COLOR_BGR2GRAY)\n",
    "    _, thresh = cv2.threshold(gray, 0, 255, cv2.THRESH_BINARY_INV + cv2.THRESH_OTSU)\n",
    "    contours, _ = cv2.findContours(thresh, cv2.RETR_EXTERNAL, cv2.CHAIN_APPROX_SIMPLE)\n",
    "    if len(contours) == 0:\n",
    "        return [0, 0, 0]\n",
    "    c = max(contours, key=cv2.contourArea)\n",
    "    x, y, w, h = cv2.boundingRect(c)\n",
    "    aspect_ratio = float(w) / h\n",
    "    area = cv2.contourArea(c)\n",
    "    rect_area = w * h\n",
    "    extent = float(area) / rect_area if rect_area != 0 else 0\n",
    "    hull = cv2.convexHull(c)\n",
    "    hull_area = cv2.contourArea(hull)\n",
    "    solidity = float(area) / hull_area if hull_area != 0 else 0\n",
    "    return [aspect_ratio, extent, solidity]"
   ]
  },
  {
   "cell_type": "code",
   "execution_count": 4,
   "id": "cc90ea3f",
   "metadata": {},
   "outputs": [],
   "source": [
    "def preprocess_and_classify_image(image_path, model, label_encoder):\n",
    "    img = cv2.imread(image_path)\n",
    "    if img is None:\n",
    "        raise ValueError(f\"Could not read image: {image_path}\")\n",
    "    \n",
    "    img = cv2.resize(img, IMAGE_SIZE)\n",
    "\n",
    "    color_features = extract_color_features(img)\n",
    "    texture_features = extract_texture_features(img)\n",
    "    shape_features = extract_shape_features(img)\n",
    "\n",
    "    features = np.hstack([color_features, texture_features, shape_features])\n",
    "\n",
    "    features = features.reshape(1, -1)\n",
    "    pred = model.predict(features)[0]\n",
    "    pred_proba = model.predict_proba(features)[0]\n",
    "\n",
    "    predicted_class = label_encoder.inverse_transform([pred])[0]\n",
    "\n",
    "    return predicted_class, pred_proba"
   ]
  },
  {
   "cell_type": "code",
   "execution_count": 5,
   "id": "5ad5ad18",
   "metadata": {},
   "outputs": [
    {
     "name": "stdout",
     "output_type": "stream",
     "text": [
      "S No. \t\t Actual Class \t\t\t Predicted Class\n",
      "1 \t\t Pepper_BS \t\t\t Tomato_Septoria_leaf_spot\n",
      "2 \t\t Pepper_BS \t\t\t Tomato_Septoria_leaf_spot\n",
      "3 \t\t Pepper_Healthy \t\t\t Tomato_Septoria_leaf_spot\n",
      "4 \t\t Pepper_Healthy \t\t\t Tomato_Septoria_leaf_spot\n",
      "5 \t\t Potato_Healthy \t\t\t Tomato_Septoria_leaf_spot\n",
      "6 \t\t Potato_Healthy \t\t\t Tomato_Septoria_leaf_spot\n",
      "7 \t\t Potato_Healthy \t\t\t Tomato_Septoria_leaf_spot\n",
      "8 \t\t Potato_LB \t\t\t Tomato_Septoria_leaf_spot\n",
      "9 \t\t Potato_LB \t\t\t Tomato_Septoria_leaf_spot\n",
      "10 \t\t Tomato_Mosaic \t\t\t Tomato_Septoria_leaf_spot\n",
      "11 \t\t Tomato_Mosaic \t\t\t Tomato_Septoria_leaf_spot\n",
      "12 \t\t Tomato_Spider \t\t\t Tomato_Septoria_leaf_spot\n",
      "13 \t\t Tomato_Spider \t\t\t Tomato_Septoria_leaf_spot\n"
     ]
    }
   ],
   "source": [
    "print(f\"S No. \\t\\t Actual Class \\t\\t\\t Predicted Class\")\n",
    "i=1\n",
    "for folder in os.listdir(INPUT_DIR):\n",
    "    folder_path = os.path.join(INPUT_DIR, folder)\n",
    "\n",
    "    if not os.path.isdir(folder_path):\n",
    "        continue\n",
    "    for files in os.listdir(folder_path):\n",
    "        image_path = os.path.join(folder_path, files)\n",
    "        pred_class, prob = preprocess_and_classify_image(image_path, model, le)\n",
    "\n",
    "        print(f\"{i} \\t\\t {folder} \\t\\t\\t {pred_class}\")\n",
    "        i+=1\n",
    "        \n"
   ]
  },
  {
   "cell_type": "code",
   "execution_count": 14,
   "id": "13d63e44",
   "metadata": {},
   "outputs": [
    {
     "name": "stdout",
     "output_type": "stream",
     "text": [
      "S No. \t\t Actual Class \t\t\t Predicted Class\n",
      "1 \t\t Pepper_BS \t\t\t Pepper__bell___Bacterial_spot\n",
      "2 \t\t Pepper_BS \t\t\t Pepper__bell___Bacterial_spot\n",
      "3 \t\t Pepper_Healthy \t\t\t Pepper__bell___healthy\n",
      "4 \t\t Pepper_Healthy \t\t\t Pepper__bell___healthy\n",
      "5 \t\t Potato_Healthy \t\t\t Potato___healthy\n",
      "6 \t\t Potato_Healthy \t\t\t Tomato_Late_blight\n",
      "7 \t\t Potato_Healthy \t\t\t Potato___healthy\n",
      "8 \t\t Potato_LB \t\t\t Potato___Late_blight\n",
      "9 \t\t Potato_LB \t\t\t Potato___Late_blight\n",
      "10 \t\t Tomato_Mosaic \t\t\t Tomato__Tomato_mosaic_virus\n",
      "11 \t\t Tomato_Mosaic \t\t\t Tomato__Tomato_mosaic_virus\n",
      "12 \t\t Tomato_Spider \t\t\t Tomato_Spider_mites_Two_spotted_spider_mite\n",
      "13 \t\t Tomato_Spider \t\t\t Tomato_Spider_mites_Two_spotted_spider_mite\n"
     ]
    }
   ],
   "source": [
    "print(f\"S No. \\t\\t Actual Class \\t\\t\\t Predicted Class\")\n",
    "i=1\n",
    "for folder in os.listdir(INPUT_DIR):\n",
    "    folder_path = os.path.join(INPUT_DIR, folder)\n",
    "\n",
    "    if not os.path.isdir(folder_path):\n",
    "        continue\n",
    "    for files in os.listdir(folder_path):\n",
    "        image_path = os.path.join(folder_path, files)\n",
    "        pred_class, prob = preprocess_and_classify_image(image_path, model, le)\n",
    "\n",
    "        print(f\"{i} \\t\\t {folder} \\t\\t\\t {pred_class}\")\n",
    "        i+=1\n",
    "        \n"
   ]
  },
  {
   "cell_type": "code",
   "execution_count": null,
   "id": "4193d743",
   "metadata": {},
   "outputs": [],
   "source": []
  }
 ],
 "metadata": {
  "kernelspec": {
   "display_name": "Python 3",
   "language": "python",
   "name": "python3"
  },
  "language_info": {
   "codemirror_mode": {
    "name": "ipython",
    "version": 3
   },
   "file_extension": ".py",
   "mimetype": "text/x-python",
   "name": "python",
   "nbconvert_exporter": "python",
   "pygments_lexer": "ipython3",
   "version": "3.12.5"
  }
 },
 "nbformat": 4,
 "nbformat_minor": 5
}
